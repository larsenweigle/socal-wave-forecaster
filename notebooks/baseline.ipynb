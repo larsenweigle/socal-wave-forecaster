{
 "cells": [
  {
   "cell_type": "code",
   "execution_count": 1,
   "metadata": {},
   "outputs": [],
   "source": [
    "import os\n",
    "import pandas as pd\n",
    "import numpy as np\n",
    "import torch\n",
    "import torch.nn as nn\n",
    "import torch.optim as optim\n",
    "from torch.utils.data import TensorDataset, DataLoader\n",
    "import matplotlib.pyplot as plt\n",
    "import matplotlib.ticker as ticker\n",
    "import seaborn as sns\n",
    "\n",
    "\n",
    "DATA_PATH_2022 = '../data/raw/46266h2022.txt'\n",
    "DATA_PATH_2021 = '../data/raw/46266h2021.txt'\n",
    "DATA_PATH_2020 = '../data/raw/46266h2020.txt'\n",
    "DATA_PATH_2019 = '../data/raw/46266h2019.txt'"
   ]
  },
  {
   "cell_type": "markdown",
   "metadata": {},
   "source": [
    "# Format 2019 - 2022 Historical Data"
   ]
  },
  {
   "cell_type": "markdown",
   "metadata": {},
   "source": [
    "For the baseline model, we will only use wave related data as features. We have also downloaded ocean current data from the same buoy location, however, we do not want to over over-featurize given the total size of the dataset and MLP model.\n",
    "\n",
    "For each year, we seem to have some missing values (see the smaller number of rows for the dataframe compared to 2020 and 2022). The missing values likely reflect certain times when the sensors of the buoy were malfuncitoning. Because we are dealing with time series data, where datapoints need to be ordered sequentially, we need to account for these missing rows when processing the dataset.\n",
    "\n",
    "The function below is responsible for finding where the measurement between the ith row and i-1th row is greater than 60 minutes. We will have to account for these rows when preprocessing the data.\n",
    "\n",
    "Note: We check for 60 minute differences after dropping all measurements that are not taken on the hour! See the other functions below to get a better idea of how we accomplish this."
   ]
  },
  {
   "cell_type": "code",
   "execution_count": 11,
   "metadata": {},
   "outputs": [],
   "source": [
    "def check_for_missing_rows(dataframe):\n",
    "    # Rename columns for compatibility with pd.to_datetime()\n",
    "    dataframe = dataframe.rename(columns={\n",
    "        '#YY': 'year',\n",
    "        'MM': 'month',\n",
    "        'DD': 'day',\n",
    "        'hh': 'hour',\n",
    "        'mm': 'minute'\n",
    "    })\n",
    "\n",
    "    # Convert the separate year, month, day, hour, minute columns into a single datetime column\n",
    "    dataframe['datetime'] = pd.to_datetime(dataframe[['year', 'month', 'day', 'hour', 'minute']])\n",
    "\n",
    "    missing_indices = []\n",
    "\n",
    "    # Iterate over rows and check for a time difference of more than 30 minutes\n",
    "    for i in range(1, dataframe.shape[0]):\n",
    "        time_diff = dataframe.iloc[i]['datetime'] - dataframe.iloc[i-1]['datetime']\n",
    "        if time_diff > pd.Timedelta(minutes=60):\n",
    "            missing_indices.append(i)\n",
    "\n",
    "    return missing_indices"
   ]
  },
  {
   "cell_type": "markdown",
   "metadata": {},
   "source": [
    "The other functions in this section format the data text files into dataframes, handle the type conversions, and drop columns we will not use."
   ]
  },
  {
   "cell_type": "code",
   "execution_count": 3,
   "metadata": {},
   "outputs": [],
   "source": [
    "def text_to_dataframe(data_path):\n",
    "    historical_data = pd.read_csv(data_path, delim_whitespace=True, header=0)\n",
    "\n",
    "    # drop the units row\n",
    "    units = historical_data.iloc[0]\n",
    "    historical_data.drop(0, inplace=True)\n",
    "\n",
    "    # reset the index since we are now missing a row\n",
    "    historical_data = historical_data.reset_index(drop=True)\n",
    "\n",
    "    return units, historical_data"
   ]
  },
  {
   "cell_type": "markdown",
   "metadata": {},
   "source": [
    "There is a little data cleaning we need to do here. As you can see below, the values for certain columns are all 99.0 or 9999.0. These values signal a missing value. In the case of our data, the buoy likely does not have the proper instruments to capture these values. To fix this, we will simply drop the columns.\n",
    "\n",
    "Another issue is that we just loaded in a text file, so all the values in the dataframe are strings. The models we train later in the script need numerical data. We can use some useful functions from the pandas library to convert it to a digestable format for our future model.\n",
    "\n",
    "To make window slicing easier for the time series data, I only keep measurements on the start of each hour. The original dataframes contain measurements for every 30 minutes. Given that there are marginal changes (from initial observations) every 30 minutes, we only consider inputs that are seperated by one hour of time for the baseline models. We accomplish this with the last function in the block below.\n",
    "\n",
    "We also drop certain columns to simplify our feature set for the baseline mode. For detailed descriptions of each feature, please refer [here](https://www.ndbc.noaa.gov/faq/measdes.shtml#stdmet)."
   ]
  },
  {
   "cell_type": "code",
   "execution_count": 4,
   "metadata": {},
   "outputs": [],
   "source": [
    "def drop_cols(dataframe, columns_to_drop=['WDIR', 'WSPD', 'GST', 'PRES', 'DEWP', 'VIS', 'TIDE']):\n",
    "    dataframe.drop(columns=columns_to_drop, inplace=True)\n",
    "\n",
    "def convert_to_numerical_data(dataframe):\n",
    "    # Convert all columns to numerical values\n",
    "    dataframe.apply(pd.to_numeric)\n",
    "\n",
    "    # Convert specific columns to integers\n",
    "    columns_to_convert_to_int = ['#YY', 'MM', 'DD', 'hh', 'mm']\n",
    "    for col in columns_to_convert_to_int:\n",
    "        dataframe[col] = dataframe[col].astype(int)\n",
    "\n",
    "def convert_to_hourly(dataframe):\n",
    "    # Drop rows where 'mm' column is not 0\n",
    "    drop_indices = dataframe[dataframe['mm'] != 0].index\n",
    "    dataframe.drop(drop_indices, inplace=True)"
   ]
  },
  {
   "cell_type": "markdown",
   "metadata": {},
   "source": [
    "First, we need to split the data into time series training and label targets. \n",
    "\n",
    "For this step, we need to decide our forecasting window. Given that we are attempting to build an open source wave forecasting model for surfers, we will aim to predict the mean significant wave height in 24-48 hours.\n",
    "\n",
    "Let's start with a 24 hour lead time. With this decided, we can format a dataset for supervised learning. Our x's will be vectors containg the set of features we specify measured at each hour for a certain amount hours. In the code below, we have 4 features measured at each hour for 24 hours. Thus, each x_i will be 96 x 1 ((4 * 24) x 1). The corresponding label will just be a scalar representing the 'WVHT' value 24 hours ahead of the last hour measurements were taken in the x_i vector."
   ]
  },
  {
   "cell_type": "code",
   "execution_count": 5,
   "metadata": {},
   "outputs": [],
   "source": [
    "def build_supervised_learning_dataset(dataframe, missing_indices, feature_set=['WVHT', 'DPD', 'APD', 'MWD'], window=24, lead=24):\n",
    "    # Convert missing_indices to a set for faster lookup\n",
    "    missing_set = set(missing_indices)\n",
    "\n",
    "    X, y = [], []\n",
    "\n",
    "    for i in range(dataframe.shape[0] - window - lead + 1):\n",
    "        # Check if any of the indices in the current slice are in the missing set\n",
    "        if any([(i + j) in missing_set for j in range(window)]):\n",
    "            continue\n",
    "        \n",
    "        # Here we grab the window of values for each feature\n",
    "        x_i = dataframe.iloc[i : i + window][feature_set].to_numpy()\n",
    "\n",
    "        # Reshape the array so it can be a row vector of X (1 X 24 * 4) -> (1 x 96)\n",
    "        x_i = x_i.flatten()\n",
    "\n",
    "        # Only fetch the significant wave height value for the label\n",
    "        y_i = dataframe.iloc[i + window + lead - 1]['WVHT']\n",
    "\n",
    "        X.append(x_i)\n",
    "        y.append(y_i)\n",
    "\n",
    "    return np.array(X), np.array(y)"
   ]
  },
  {
   "cell_type": "markdown",
   "metadata": {},
   "source": [
    "---\n",
    "\n",
    "### 2019"
   ]
  },
  {
   "cell_type": "markdown",
   "metadata": {},
   "source": [
    "From some exploration of the data from 2019, we can see that it starts in December. As a result, the dataframe is smaller compared to other years."
   ]
  },
  {
   "cell_type": "code",
   "execution_count": 6,
   "metadata": {},
   "outputs": [
    {
     "name": "stdout",
     "output_type": "stream",
     "text": [
      "shape: (1205, 18)\n"
     ]
    }
   ],
   "source": [
    "_, historical_data_2019 = text_to_dataframe(DATA_PATH_2019)\n",
    "\n",
    "print(f'shape: {historical_data_2019.shape}')"
   ]
  },
  {
   "cell_type": "code",
   "execution_count": 7,
   "metadata": {},
   "outputs": [
    {
     "data": {
      "text/html": [
       "<div>\n",
       "<style scoped>\n",
       "    .dataframe tbody tr th:only-of-type {\n",
       "        vertical-align: middle;\n",
       "    }\n",
       "\n",
       "    .dataframe tbody tr th {\n",
       "        vertical-align: top;\n",
       "    }\n",
       "\n",
       "    .dataframe thead th {\n",
       "        text-align: right;\n",
       "    }\n",
       "</style>\n",
       "<table border=\"1\" class=\"dataframe\">\n",
       "  <thead>\n",
       "    <tr style=\"text-align: right;\">\n",
       "      <th></th>\n",
       "      <th>#YY</th>\n",
       "      <th>MM</th>\n",
       "      <th>DD</th>\n",
       "      <th>hh</th>\n",
       "      <th>mm</th>\n",
       "      <th>WVHT</th>\n",
       "      <th>DPD</th>\n",
       "      <th>APD</th>\n",
       "      <th>MWD</th>\n",
       "      <th>ATMP</th>\n",
       "      <th>WTMP</th>\n",
       "    </tr>\n",
       "  </thead>\n",
       "  <tbody>\n",
       "    <tr>\n",
       "      <th>1</th>\n",
       "      <td>2019</td>\n",
       "      <td>12</td>\n",
       "      <td>6</td>\n",
       "      <td>18</td>\n",
       "      <td>0</td>\n",
       "      <td>0.72</td>\n",
       "      <td>14.29</td>\n",
       "      <td>8.10</td>\n",
       "      <td>244</td>\n",
       "      <td>999.0</td>\n",
       "      <td>16.6</td>\n",
       "    </tr>\n",
       "    <tr>\n",
       "      <th>3</th>\n",
       "      <td>2019</td>\n",
       "      <td>12</td>\n",
       "      <td>6</td>\n",
       "      <td>19</td>\n",
       "      <td>0</td>\n",
       "      <td>0.65</td>\n",
       "      <td>14.29</td>\n",
       "      <td>7.83</td>\n",
       "      <td>240</td>\n",
       "      <td>999.0</td>\n",
       "      <td>16.9</td>\n",
       "    </tr>\n",
       "    <tr>\n",
       "      <th>5</th>\n",
       "      <td>2019</td>\n",
       "      <td>12</td>\n",
       "      <td>6</td>\n",
       "      <td>20</td>\n",
       "      <td>0</td>\n",
       "      <td>0.67</td>\n",
       "      <td>12.50</td>\n",
       "      <td>7.49</td>\n",
       "      <td>251</td>\n",
       "      <td>999.0</td>\n",
       "      <td>17.3</td>\n",
       "    </tr>\n",
       "    <tr>\n",
       "      <th>7</th>\n",
       "      <td>2019</td>\n",
       "      <td>12</td>\n",
       "      <td>6</td>\n",
       "      <td>21</td>\n",
       "      <td>0</td>\n",
       "      <td>0.68</td>\n",
       "      <td>11.11</td>\n",
       "      <td>7.47</td>\n",
       "      <td>262</td>\n",
       "      <td>999.0</td>\n",
       "      <td>17.1</td>\n",
       "    </tr>\n",
       "    <tr>\n",
       "      <th>9</th>\n",
       "      <td>2019</td>\n",
       "      <td>12</td>\n",
       "      <td>6</td>\n",
       "      <td>22</td>\n",
       "      <td>0</td>\n",
       "      <td>0.66</td>\n",
       "      <td>14.29</td>\n",
       "      <td>6.73</td>\n",
       "      <td>239</td>\n",
       "      <td>999.0</td>\n",
       "      <td>16.7</td>\n",
       "    </tr>\n",
       "  </tbody>\n",
       "</table>\n",
       "</div>"
      ],
      "text/plain": [
       "    #YY  MM  DD  hh  mm  WVHT    DPD   APD  MWD   ATMP  WTMP\n",
       "1  2019  12   6  18   0  0.72  14.29  8.10  244  999.0  16.6\n",
       "3  2019  12   6  19   0  0.65  14.29  7.83  240  999.0  16.9\n",
       "5  2019  12   6  20   0  0.67  12.50  7.49  251  999.0  17.3\n",
       "7  2019  12   6  21   0  0.68  11.11  7.47  262  999.0  17.1\n",
       "9  2019  12   6  22   0  0.66  14.29  6.73  239  999.0  16.7"
      ]
     },
     "execution_count": 7,
     "metadata": {},
     "output_type": "execute_result"
    }
   ],
   "source": [
    "drop_cols(historical_data_2019)\n",
    "\n",
    "convert_to_numerical_data(historical_data_2019)\n",
    "\n",
    "convert_to_hourly(historical_data_2019)\n",
    "\n",
    "historical_data_2019.head()"
   ]
  },
  {
   "cell_type": "code",
   "execution_count": 8,
   "metadata": {},
   "outputs": [
    {
     "data": {
      "text/plain": [
       "5"
      ]
     },
     "execution_count": 8,
     "metadata": {},
     "output_type": "execute_result"
    }
   ],
   "source": [
    "missing_indices_2019 = check_for_missing_rows(historical_data_2019)\n",
    "\n",
    "len(missing_indices_2019)"
   ]
  },
  {
   "cell_type": "code",
   "execution_count": 12,
   "metadata": {},
   "outputs": [
    {
     "data": {
      "text/plain": [
       "'X shape: (434, 96) y shape: (434,)'"
      ]
     },
     "execution_count": 12,
     "metadata": {},
     "output_type": "execute_result"
    }
   ],
   "source": [
    "X_2019, y_2019 = build_supervised_learning_dataset(historical_data_2019, missing_indices_2019)\n",
    "\n",
    "f'X shape: {X_2019.shape} y shape: {y_2019.shape}'"
   ]
  },
  {
   "cell_type": "markdown",
   "metadata": {},
   "source": [
    "---\n",
    "\n",
    "### 2020"
   ]
  },
  {
   "cell_type": "code",
   "execution_count": 13,
   "metadata": {},
   "outputs": [
    {
     "name": "stdout",
     "output_type": "stream",
     "text": [
      "shape: (17394, 18)\n"
     ]
    }
   ],
   "source": [
    "_, historical_data_2020 = text_to_dataframe(DATA_PATH_2020)\n",
    "\n",
    "print(f'shape: {historical_data_2020.shape}')"
   ]
  },
  {
   "cell_type": "code",
   "execution_count": 14,
   "metadata": {},
   "outputs": [
    {
     "data": {
      "text/html": [
       "<div>\n",
       "<style scoped>\n",
       "    .dataframe tbody tr th:only-of-type {\n",
       "        vertical-align: middle;\n",
       "    }\n",
       "\n",
       "    .dataframe tbody tr th {\n",
       "        vertical-align: top;\n",
       "    }\n",
       "\n",
       "    .dataframe thead th {\n",
       "        text-align: right;\n",
       "    }\n",
       "</style>\n",
       "<table border=\"1\" class=\"dataframe\">\n",
       "  <thead>\n",
       "    <tr style=\"text-align: right;\">\n",
       "      <th></th>\n",
       "      <th>#YY</th>\n",
       "      <th>MM</th>\n",
       "      <th>DD</th>\n",
       "      <th>hh</th>\n",
       "      <th>mm</th>\n",
       "      <th>WVHT</th>\n",
       "      <th>DPD</th>\n",
       "      <th>APD</th>\n",
       "      <th>MWD</th>\n",
       "      <th>ATMP</th>\n",
       "      <th>WTMP</th>\n",
       "    </tr>\n",
       "  </thead>\n",
       "  <tbody>\n",
       "    <tr>\n",
       "      <th>0</th>\n",
       "      <td>2020</td>\n",
       "      <td>1</td>\n",
       "      <td>1</td>\n",
       "      <td>0</td>\n",
       "      <td>0</td>\n",
       "      <td>1.05</td>\n",
       "      <td>15.38</td>\n",
       "      <td>8.58</td>\n",
       "      <td>272</td>\n",
       "      <td>16.4</td>\n",
       "      <td>15.3</td>\n",
       "    </tr>\n",
       "    <tr>\n",
       "      <th>2</th>\n",
       "      <td>2020</td>\n",
       "      <td>1</td>\n",
       "      <td>1</td>\n",
       "      <td>1</td>\n",
       "      <td>0</td>\n",
       "      <td>1.21</td>\n",
       "      <td>16.67</td>\n",
       "      <td>9.25</td>\n",
       "      <td>271</td>\n",
       "      <td>16.1</td>\n",
       "      <td>15.3</td>\n",
       "    </tr>\n",
       "    <tr>\n",
       "      <th>4</th>\n",
       "      <td>2020</td>\n",
       "      <td>1</td>\n",
       "      <td>1</td>\n",
       "      <td>2</td>\n",
       "      <td>0</td>\n",
       "      <td>1.18</td>\n",
       "      <td>15.38</td>\n",
       "      <td>8.99</td>\n",
       "      <td>272</td>\n",
       "      <td>16.0</td>\n",
       "      <td>15.2</td>\n",
       "    </tr>\n",
       "    <tr>\n",
       "      <th>6</th>\n",
       "      <td>2020</td>\n",
       "      <td>1</td>\n",
       "      <td>1</td>\n",
       "      <td>3</td>\n",
       "      <td>0</td>\n",
       "      <td>1.28</td>\n",
       "      <td>15.38</td>\n",
       "      <td>8.97</td>\n",
       "      <td>271</td>\n",
       "      <td>14.0</td>\n",
       "      <td>15.0</td>\n",
       "    </tr>\n",
       "    <tr>\n",
       "      <th>8</th>\n",
       "      <td>2020</td>\n",
       "      <td>1</td>\n",
       "      <td>1</td>\n",
       "      <td>4</td>\n",
       "      <td>0</td>\n",
       "      <td>1.26</td>\n",
       "      <td>15.38</td>\n",
       "      <td>8.94</td>\n",
       "      <td>273</td>\n",
       "      <td>13.4</td>\n",
       "      <td>14.8</td>\n",
       "    </tr>\n",
       "  </tbody>\n",
       "</table>\n",
       "</div>"
      ],
      "text/plain": [
       "    #YY  MM  DD  hh  mm  WVHT    DPD   APD  MWD  ATMP  WTMP\n",
       "0  2020   1   1   0   0  1.05  15.38  8.58  272  16.4  15.3\n",
       "2  2020   1   1   1   0  1.21  16.67  9.25  271  16.1  15.3\n",
       "4  2020   1   1   2   0  1.18  15.38  8.99  272  16.0  15.2\n",
       "6  2020   1   1   3   0  1.28  15.38  8.97  271  14.0  15.0\n",
       "8  2020   1   1   4   0  1.26  15.38  8.94  273  13.4  14.8"
      ]
     },
     "execution_count": 14,
     "metadata": {},
     "output_type": "execute_result"
    }
   ],
   "source": [
    "drop_cols(historical_data_2020)\n",
    "\n",
    "convert_to_numerical_data(historical_data_2020)\n",
    "\n",
    "convert_to_hourly(historical_data_2020)\n",
    "\n",
    "historical_data_2020.head()"
   ]
  },
  {
   "cell_type": "code",
   "execution_count": 15,
   "metadata": {},
   "outputs": [
    {
     "data": {
      "text/plain": [
       "47"
      ]
     },
     "execution_count": 15,
     "metadata": {},
     "output_type": "execute_result"
    }
   ],
   "source": [
    "missing_indices_2020 = check_for_missing_rows(historical_data_2020)\n",
    "\n",
    "len(missing_indices_2020)"
   ]
  },
  {
   "cell_type": "code",
   "execution_count": 16,
   "metadata": {},
   "outputs": [
    {
     "data": {
      "text/plain": [
       "'X shape: (7643, 96) y shape: (7643,)'"
      ]
     },
     "execution_count": 16,
     "metadata": {},
     "output_type": "execute_result"
    }
   ],
   "source": [
    "X_2020, y_2020 = build_supervised_learning_dataset(historical_data_2020, missing_indices_2020)\n",
    "\n",
    "f'X shape: {X_2020.shape} y shape: {y_2020.shape}'"
   ]
  },
  {
   "cell_type": "markdown",
   "metadata": {},
   "source": [
    "---\n",
    "\n",
    "### 2021"
   ]
  },
  {
   "cell_type": "code",
   "execution_count": 17,
   "metadata": {},
   "outputs": [
    {
     "name": "stdout",
     "output_type": "stream",
     "text": [
      "shape: (16976, 18)\n"
     ]
    }
   ],
   "source": [
    "_, historical_data_2021 = text_to_dataframe(DATA_PATH_2021)\n",
    "\n",
    "print(f'shape: {historical_data_2021.shape}')"
   ]
  },
  {
   "cell_type": "code",
   "execution_count": 18,
   "metadata": {},
   "outputs": [
    {
     "data": {
      "text/html": [
       "<div>\n",
       "<style scoped>\n",
       "    .dataframe tbody tr th:only-of-type {\n",
       "        vertical-align: middle;\n",
       "    }\n",
       "\n",
       "    .dataframe tbody tr th {\n",
       "        vertical-align: top;\n",
       "    }\n",
       "\n",
       "    .dataframe thead th {\n",
       "        text-align: right;\n",
       "    }\n",
       "</style>\n",
       "<table border=\"1\" class=\"dataframe\">\n",
       "  <thead>\n",
       "    <tr style=\"text-align: right;\">\n",
       "      <th></th>\n",
       "      <th>#YY</th>\n",
       "      <th>MM</th>\n",
       "      <th>DD</th>\n",
       "      <th>hh</th>\n",
       "      <th>mm</th>\n",
       "      <th>WVHT</th>\n",
       "      <th>DPD</th>\n",
       "      <th>APD</th>\n",
       "      <th>MWD</th>\n",
       "      <th>ATMP</th>\n",
       "      <th>WTMP</th>\n",
       "    </tr>\n",
       "  </thead>\n",
       "  <tbody>\n",
       "    <tr>\n",
       "      <th>0</th>\n",
       "      <td>2021</td>\n",
       "      <td>1</td>\n",
       "      <td>1</td>\n",
       "      <td>0</td>\n",
       "      <td>0</td>\n",
       "      <td>1.89</td>\n",
       "      <td>8.33</td>\n",
       "      <td>6.68</td>\n",
       "      <td>280</td>\n",
       "      <td>15.1</td>\n",
       "      <td>15.0</td>\n",
       "    </tr>\n",
       "    <tr>\n",
       "      <th>2</th>\n",
       "      <td>2021</td>\n",
       "      <td>1</td>\n",
       "      <td>1</td>\n",
       "      <td>1</td>\n",
       "      <td>0</td>\n",
       "      <td>1.66</td>\n",
       "      <td>16.67</td>\n",
       "      <td>6.64</td>\n",
       "      <td>272</td>\n",
       "      <td>14.4</td>\n",
       "      <td>14.9</td>\n",
       "    </tr>\n",
       "    <tr>\n",
       "      <th>4</th>\n",
       "      <td>2021</td>\n",
       "      <td>1</td>\n",
       "      <td>1</td>\n",
       "      <td>2</td>\n",
       "      <td>0</td>\n",
       "      <td>1.57</td>\n",
       "      <td>16.67</td>\n",
       "      <td>6.67</td>\n",
       "      <td>270</td>\n",
       "      <td>13.9</td>\n",
       "      <td>14.9</td>\n",
       "    </tr>\n",
       "    <tr>\n",
       "      <th>6</th>\n",
       "      <td>2021</td>\n",
       "      <td>1</td>\n",
       "      <td>1</td>\n",
       "      <td>3</td>\n",
       "      <td>0</td>\n",
       "      <td>1.57</td>\n",
       "      <td>18.18</td>\n",
       "      <td>6.70</td>\n",
       "      <td>267</td>\n",
       "      <td>13.0</td>\n",
       "      <td>14.9</td>\n",
       "    </tr>\n",
       "    <tr>\n",
       "      <th>8</th>\n",
       "      <td>2021</td>\n",
       "      <td>1</td>\n",
       "      <td>1</td>\n",
       "      <td>4</td>\n",
       "      <td>0</td>\n",
       "      <td>1.62</td>\n",
       "      <td>16.67</td>\n",
       "      <td>6.67</td>\n",
       "      <td>269</td>\n",
       "      <td>12.4</td>\n",
       "      <td>14.9</td>\n",
       "    </tr>\n",
       "  </tbody>\n",
       "</table>\n",
       "</div>"
      ],
      "text/plain": [
       "    #YY  MM  DD  hh  mm  WVHT    DPD   APD  MWD  ATMP  WTMP\n",
       "0  2021   1   1   0   0  1.89   8.33  6.68  280  15.1  15.0\n",
       "2  2021   1   1   1   0  1.66  16.67  6.64  272  14.4  14.9\n",
       "4  2021   1   1   2   0  1.57  16.67  6.67  270  13.9  14.9\n",
       "6  2021   1   1   3   0  1.57  18.18  6.70  267  13.0  14.9\n",
       "8  2021   1   1   4   0  1.62  16.67  6.67  269  12.4  14.9"
      ]
     },
     "execution_count": 18,
     "metadata": {},
     "output_type": "execute_result"
    }
   ],
   "source": [
    "drop_cols(historical_data_2021)\n",
    "\n",
    "convert_to_numerical_data(historical_data_2021)\n",
    "\n",
    "convert_to_hourly(historical_data_2021)\n",
    "\n",
    "historical_data_2021.head()"
   ]
  },
  {
   "cell_type": "code",
   "execution_count": 19,
   "metadata": {},
   "outputs": [
    {
     "data": {
      "text/plain": [
       "56"
      ]
     },
     "execution_count": 19,
     "metadata": {},
     "output_type": "execute_result"
    }
   ],
   "source": [
    "missing_indices_2021 = check_for_missing_rows(historical_data_2021)\n",
    "\n",
    "len(missing_indices_2021)"
   ]
  },
  {
   "cell_type": "code",
   "execution_count": 20,
   "metadata": {},
   "outputs": [
    {
     "data": {
      "text/plain": [
       "'X shape: (7251, 96) y shape: (7251,)'"
      ]
     },
     "execution_count": 20,
     "metadata": {},
     "output_type": "execute_result"
    }
   ],
   "source": [
    "X_2021, y_2021 = build_supervised_learning_dataset(historical_data_2021, missing_indices_2021)\n",
    "\n",
    "f'X shape: {X_2021.shape} y shape: {y_2021.shape}'"
   ]
  },
  {
   "cell_type": "markdown",
   "metadata": {},
   "source": [
    "---\n",
    "\n",
    "### 2022"
   ]
  },
  {
   "cell_type": "code",
   "execution_count": 21,
   "metadata": {},
   "outputs": [
    {
     "name": "stdout",
     "output_type": "stream",
     "text": [
      "shape: (17358, 18)\n"
     ]
    }
   ],
   "source": [
    "_, historical_data_2022 = text_to_dataframe(DATA_PATH_2022)\n",
    "\n",
    "print(f'shape: {historical_data_2022.shape}')"
   ]
  },
  {
   "cell_type": "code",
   "execution_count": 22,
   "metadata": {},
   "outputs": [
    {
     "data": {
      "text/html": [
       "<div>\n",
       "<style scoped>\n",
       "    .dataframe tbody tr th:only-of-type {\n",
       "        vertical-align: middle;\n",
       "    }\n",
       "\n",
       "    .dataframe tbody tr th {\n",
       "        vertical-align: top;\n",
       "    }\n",
       "\n",
       "    .dataframe thead th {\n",
       "        text-align: right;\n",
       "    }\n",
       "</style>\n",
       "<table border=\"1\" class=\"dataframe\">\n",
       "  <thead>\n",
       "    <tr style=\"text-align: right;\">\n",
       "      <th></th>\n",
       "      <th>#YY</th>\n",
       "      <th>MM</th>\n",
       "      <th>DD</th>\n",
       "      <th>hh</th>\n",
       "      <th>mm</th>\n",
       "      <th>WVHT</th>\n",
       "      <th>DPD</th>\n",
       "      <th>APD</th>\n",
       "      <th>MWD</th>\n",
       "      <th>ATMP</th>\n",
       "      <th>WTMP</th>\n",
       "    </tr>\n",
       "  </thead>\n",
       "  <tbody>\n",
       "    <tr>\n",
       "      <th>0</th>\n",
       "      <td>2022</td>\n",
       "      <td>1</td>\n",
       "      <td>1</td>\n",
       "      <td>0</td>\n",
       "      <td>0</td>\n",
       "      <td>1.24</td>\n",
       "      <td>5.00</td>\n",
       "      <td>4.27</td>\n",
       "      <td>278</td>\n",
       "      <td>13.8</td>\n",
       "      <td>15.2</td>\n",
       "    </tr>\n",
       "    <tr>\n",
       "      <th>2</th>\n",
       "      <td>2022</td>\n",
       "      <td>1</td>\n",
       "      <td>1</td>\n",
       "      <td>1</td>\n",
       "      <td>0</td>\n",
       "      <td>1.46</td>\n",
       "      <td>5.26</td>\n",
       "      <td>4.68</td>\n",
       "      <td>271</td>\n",
       "      <td>13.6</td>\n",
       "      <td>15.2</td>\n",
       "    </tr>\n",
       "    <tr>\n",
       "      <th>4</th>\n",
       "      <td>2022</td>\n",
       "      <td>1</td>\n",
       "      <td>1</td>\n",
       "      <td>2</td>\n",
       "      <td>0</td>\n",
       "      <td>1.87</td>\n",
       "      <td>6.67</td>\n",
       "      <td>5.15</td>\n",
       "      <td>271</td>\n",
       "      <td>13.6</td>\n",
       "      <td>15.2</td>\n",
       "    </tr>\n",
       "    <tr>\n",
       "      <th>6</th>\n",
       "      <td>2022</td>\n",
       "      <td>1</td>\n",
       "      <td>1</td>\n",
       "      <td>3</td>\n",
       "      <td>0</td>\n",
       "      <td>1.90</td>\n",
       "      <td>6.90</td>\n",
       "      <td>5.76</td>\n",
       "      <td>268</td>\n",
       "      <td>13.4</td>\n",
       "      <td>15.1</td>\n",
       "    </tr>\n",
       "    <tr>\n",
       "      <th>8</th>\n",
       "      <td>2022</td>\n",
       "      <td>1</td>\n",
       "      <td>1</td>\n",
       "      <td>4</td>\n",
       "      <td>0</td>\n",
       "      <td>1.77</td>\n",
       "      <td>7.14</td>\n",
       "      <td>5.67</td>\n",
       "      <td>270</td>\n",
       "      <td>13.4</td>\n",
       "      <td>15.1</td>\n",
       "    </tr>\n",
       "  </tbody>\n",
       "</table>\n",
       "</div>"
      ],
      "text/plain": [
       "    #YY  MM  DD  hh  mm  WVHT   DPD   APD  MWD  ATMP  WTMP\n",
       "0  2022   1   1   0   0  1.24  5.00  4.27  278  13.8  15.2\n",
       "2  2022   1   1   1   0  1.46  5.26  4.68  271  13.6  15.2\n",
       "4  2022   1   1   2   0  1.87  6.67  5.15  271  13.6  15.2\n",
       "6  2022   1   1   3   0  1.90  6.90  5.76  268  13.4  15.1\n",
       "8  2022   1   1   4   0  1.77  7.14  5.67  270  13.4  15.1"
      ]
     },
     "execution_count": 22,
     "metadata": {},
     "output_type": "execute_result"
    }
   ],
   "source": [
    "drop_cols(historical_data_2022)\n",
    "\n",
    "convert_to_numerical_data(historical_data_2022)\n",
    "\n",
    "convert_to_hourly(historical_data_2022)\n",
    "\n",
    "historical_data_2022.head()"
   ]
  },
  {
   "cell_type": "code",
   "execution_count": 23,
   "metadata": {},
   "outputs": [
    {
     "data": {
      "text/plain": [
       "29"
      ]
     },
     "execution_count": 23,
     "metadata": {},
     "output_type": "execute_result"
    }
   ],
   "source": [
    "missing_indices_2022 = check_for_missing_rows(historical_data_2022)\n",
    "\n",
    "len(missing_indices_2022)"
   ]
  },
  {
   "cell_type": "code",
   "execution_count": 24,
   "metadata": {},
   "outputs": [
    {
     "data": {
      "text/plain": [
       "'X shape: (7011, 96) y shape: (7011,)'"
      ]
     },
     "execution_count": 24,
     "metadata": {},
     "output_type": "execute_result"
    }
   ],
   "source": [
    "X_2022, y_2022 = build_supervised_learning_dataset(historical_data_2022, missing_indices_2022)\n",
    "\n",
    "f'X shape: {X_2022.shape} y shape: {y_2022.shape}'"
   ]
  },
  {
   "cell_type": "markdown",
   "metadata": {},
   "source": [
    "\n",
    "\n",
    "# Visualizing Historical Data\n",
    "\n",
    "To increase the number of datapoints we have for the baseline, we will aggregate data recorded by the same buoy for 2020, 2021, and 2022. In the future, we will increase the number of years we aggregate data accross to increase the size of the training set."
   ]
  },
  {
   "cell_type": "code",
   "execution_count": 25,
   "metadata": {},
   "outputs": [
    {
     "data": {
      "text/html": [
       "<div>\n",
       "<style scoped>\n",
       "    .dataframe tbody tr th:only-of-type {\n",
       "        vertical-align: middle;\n",
       "    }\n",
       "\n",
       "    .dataframe tbody tr th {\n",
       "        vertical-align: top;\n",
       "    }\n",
       "\n",
       "    .dataframe thead th {\n",
       "        text-align: right;\n",
       "    }\n",
       "</style>\n",
       "<table border=\"1\" class=\"dataframe\">\n",
       "  <thead>\n",
       "    <tr style=\"text-align: right;\">\n",
       "      <th></th>\n",
       "      <th>#YY</th>\n",
       "      <th>MM</th>\n",
       "      <th>DD</th>\n",
       "      <th>hh</th>\n",
       "      <th>mm</th>\n",
       "      <th>WVHT</th>\n",
       "      <th>DPD</th>\n",
       "      <th>APD</th>\n",
       "      <th>MWD</th>\n",
       "      <th>ATMP</th>\n",
       "      <th>WTMP</th>\n",
       "    </tr>\n",
       "  </thead>\n",
       "  <tbody>\n",
       "    <tr>\n",
       "      <th>0</th>\n",
       "      <td>2019</td>\n",
       "      <td>12</td>\n",
       "      <td>6</td>\n",
       "      <td>18</td>\n",
       "      <td>0</td>\n",
       "      <td>0.72</td>\n",
       "      <td>14.29</td>\n",
       "      <td>8.10</td>\n",
       "      <td>244</td>\n",
       "      <td>999.0</td>\n",
       "      <td>16.6</td>\n",
       "    </tr>\n",
       "    <tr>\n",
       "      <th>1</th>\n",
       "      <td>2019</td>\n",
       "      <td>12</td>\n",
       "      <td>6</td>\n",
       "      <td>19</td>\n",
       "      <td>0</td>\n",
       "      <td>0.65</td>\n",
       "      <td>14.29</td>\n",
       "      <td>7.83</td>\n",
       "      <td>240</td>\n",
       "      <td>999.0</td>\n",
       "      <td>16.9</td>\n",
       "    </tr>\n",
       "    <tr>\n",
       "      <th>2</th>\n",
       "      <td>2019</td>\n",
       "      <td>12</td>\n",
       "      <td>6</td>\n",
       "      <td>20</td>\n",
       "      <td>0</td>\n",
       "      <td>0.67</td>\n",
       "      <td>12.50</td>\n",
       "      <td>7.49</td>\n",
       "      <td>251</td>\n",
       "      <td>999.0</td>\n",
       "      <td>17.3</td>\n",
       "    </tr>\n",
       "    <tr>\n",
       "      <th>3</th>\n",
       "      <td>2019</td>\n",
       "      <td>12</td>\n",
       "      <td>6</td>\n",
       "      <td>21</td>\n",
       "      <td>0</td>\n",
       "      <td>0.68</td>\n",
       "      <td>11.11</td>\n",
       "      <td>7.47</td>\n",
       "      <td>262</td>\n",
       "      <td>999.0</td>\n",
       "      <td>17.1</td>\n",
       "    </tr>\n",
       "    <tr>\n",
       "      <th>4</th>\n",
       "      <td>2019</td>\n",
       "      <td>12</td>\n",
       "      <td>6</td>\n",
       "      <td>22</td>\n",
       "      <td>0</td>\n",
       "      <td>0.66</td>\n",
       "      <td>14.29</td>\n",
       "      <td>6.73</td>\n",
       "      <td>239</td>\n",
       "      <td>999.0</td>\n",
       "      <td>16.7</td>\n",
       "    </tr>\n",
       "  </tbody>\n",
       "</table>\n",
       "</div>"
      ],
      "text/plain": [
       "    #YY  MM  DD  hh  mm  WVHT    DPD   APD  MWD   ATMP  WTMP\n",
       "0  2019  12   6  18   0  0.72  14.29  8.10  244  999.0  16.6\n",
       "1  2019  12   6  19   0  0.65  14.29  7.83  240  999.0  16.9\n",
       "2  2019  12   6  20   0  0.67  12.50  7.49  251  999.0  17.3\n",
       "3  2019  12   6  21   0  0.68  11.11  7.47  262  999.0  17.1\n",
       "4  2019  12   6  22   0  0.66  14.29  6.73  239  999.0  16.7"
      ]
     },
     "execution_count": 25,
     "metadata": {},
     "output_type": "execute_result"
    }
   ],
   "source": [
    "# Concatenate the DataFrames vertically\n",
    "all_historical_data = pd.concat([historical_data_2019, historical_data_2020, historical_data_2021], axis=0).reset_index(drop=True)\n",
    "\n",
    "all_historical_data.head()"
   ]
  },
  {
   "cell_type": "markdown",
   "metadata": {},
   "source": [
    "Before we get into processing the data into training, dev, and test sets, let's visualize the different feature columns. By examining their distributions, we can make more informed decisions for out data prepocessing steps and model architecture."
   ]
  },
  {
   "cell_type": "code",
   "execution_count": 30,
   "metadata": {},
   "outputs": [
    {
     "data": {
      "image/png": "[encoded data removed]",
      "text/plain": [
       "<Figure size 640x480 with 1 Axes>"
      ]
     },
     "metadata": {},
     "output_type": "display_data"
    }
   ],
   "source": [
    "\n",
    "sns.histplot(all_historical_data.WVHT, kde=True)\n",
    "ax = plt.gca()  # get the current axis\n",
    "ax.xaxis.set_major_locator(ticker.MaxNLocator(nbins=10))\n",
    "plt.show()"
   ]
  },
  {
   "cell_type": "code",
   "execution_count": 147,
   "metadata": {},
   "outputs": [
    {
     "data": {
      "image/png": "[encoded data removed]",
      "text/plain": [
       "<Figure size 640x480 with 1 Axes>"
      ]
     },
     "metadata": {},
     "output_type": "display_data"
    }
   ],
   "source": [
    "sns.histplot(all_historical_data.DPD , kde=True)\n",
    "ax = plt.gca()  # get the current axis\n",
    "ax.xaxis.set_major_locator(ticker.MaxNLocator(nbins=10))\n",
    "plt.show()"
   ]
  },
  {
   "cell_type": "code",
   "execution_count": 31,
   "metadata": {},
   "outputs": [
    {
     "data": {
      "image/png": "[encoded data removed]",
      "text/plain": [
       "<Figure size 640x480 with 1 Axes>"
      ]
     },
     "metadata": {},
     "output_type": "display_data"
    }
   ],
   "source": [
    "sns.histplot(all_historical_data.APD, kde=True)\n",
    "ax = plt.gca()  # get the current axis\n",
    "ax.xaxis.set_major_locator(ticker.MaxNLocator(nbins=10))\n",
    "plt.show()"
   ]
  },
  {
   "cell_type": "code",
   "execution_count": 32,
   "metadata": {},
   "outputs": [
    {
     "data": {
      "image/png": "[encoded data removed]",
      "text/plain": [
       "<Figure size 640x480 with 1 Axes>"
      ]
     },
     "metadata": {},
     "output_type": "display_data"
    }
   ],
   "source": [
    "sns.histplot(all_historical_data.MWD, kde=True)\n",
    "ax = plt.gca()  # get the current axis\n",
    "ax.xaxis.set_major_locator(ticker.MaxNLocator(nbins=10))\n",
    "plt.show()"
   ]
  },
  {
   "cell_type": "markdown",
   "metadata": {},
   "source": [
    "One thing to note about the plots above is the shape of the distributions and their scales. Each feature set is on a different scale, as shown by the x-axis values. We will need to take this into consideration when training different regression models.\n",
    "\n",
    "With our feature set visualized, we can now move into preprocessing the dataset for training out baseline model. The steps taken below are specific for the baseline model (Linear Regression and MLP). When we used models specifically designed for time-dependent data, like an LSTM, we will have to process and store the data in a slightly different way."
   ]
  },
  {
   "cell_type": "markdown",
   "metadata": {},
   "source": [
    "# Baseline Model Training"
   ]
  },
  {
   "cell_type": "code",
   "execution_count": 46,
   "metadata": {},
   "outputs": [
    {
     "data": {
      "text/plain": [
       "'X shape: (22339, 96) y shape: (22339,)'"
      ]
     },
     "execution_count": 46,
     "metadata": {},
     "output_type": "execute_result"
    }
   ],
   "source": [
    "X = np.vstack((X_2019, X_2020, X_2021, X_2022))\n",
    "\n",
    "y = np.concatenate((y_2019, y_2020, y_2021, y_2022))\n",
    "\n",
    "X = X.astype(np.float32)\n",
    "\n",
    "y = y.astype(np.float32)\n",
    "\n",
    "f'X shape: {X.shape} y shape: {y.shape}'"
   ]
  },
  {
   "cell_type": "code",
   "execution_count": 47,
   "metadata": {},
   "outputs": [
    {
     "data": {
      "text/plain": [
       "(17871, 96)"
      ]
     },
     "execution_count": 47,
     "metadata": {},
     "output_type": "execute_result"
    }
   ],
   "source": [
    "train_size = int(0.8 * len(X))\n",
    "val_size = int(0.1 * len(X))\n",
    "\n",
    "X_train, X_val, X_test = X[:train_size], X[train_size:train_size+val_size], X[train_size+val_size:]\n",
    "y_train, y_val, y_test = y[:train_size], y[train_size:train_size+val_size], y[train_size+val_size:]\n",
    "\n",
    "X_train.shape"
   ]
  },
  {
   "cell_type": "code",
   "execution_count": 52,
   "metadata": {},
   "outputs": [
    {
     "name": "stdout",
     "output_type": "stream",
     "text": [
      "float32\n"
     ]
    }
   ],
   "source": [
    "print(X_train.dtype) "
   ]
  },
  {
   "cell_type": "markdown",
   "metadata": {},
   "source": [
    "For our baseline model, we will be building a simple MLP regression model with the PyTorch Library. Given the smaller size of the dataset, it will be interesting to see how the model performs."
   ]
  },
  {
   "cell_type": "code",
   "execution_count": 53,
   "metadata": {},
   "outputs": [],
   "source": [
    "class WaveForecastMLP(nn.Module):\n",
    "    def __init__(self):\n",
    "        super(WaveForecastMLP, self).__init__()\n",
    "        \n",
    "        self.network = nn.Sequential(\n",
    "            nn.Linear(24*4, 128),\n",
    "            nn.ReLU(),\n",
    "            nn.Linear(128, 64),\n",
    "            nn.ReLU(),\n",
    "            nn.Linear(64, 32),\n",
    "            nn.ReLU(),\n",
    "            nn.Linear(32, 1)\n",
    "        )\n",
    "\n",
    "    def forward(self, x):\n",
    "        return self.network(x)"
   ]
  },
  {
   "cell_type": "code",
   "execution_count": 54,
   "metadata": {},
   "outputs": [],
   "source": [
    "# Convert numpy arrays to PyTorch tensors\n",
    "X_train_tensor = torch.FloatTensor(X_train)\n",
    "y_train_tensor = torch.FloatTensor(y_train)\n",
    "X_val_tensor = torch.FloatTensor(X_val)\n",
    "y_val_tensor = torch.FloatTensor(y_val)\n",
    "\n",
    "# Create datasets\n",
    "train_dataset = TensorDataset(X_train_tensor, y_train_tensor)\n",
    "val_dataset = TensorDataset(X_val_tensor, y_val_tensor)\n",
    "\n",
    "# Create data loaders\n",
    "train_loader = DataLoader(train_dataset, batch_size=64, shuffle=True)\n",
    "val_loader = DataLoader(val_dataset, batch_size=64)"
   ]
  },
  {
   "cell_type": "code",
   "execution_count": 55,
   "metadata": {},
   "outputs": [],
   "source": [
    "model = WaveForecastMLP()\n",
    "criterion = torch.nn.MSELoss()  # Mean squared error loss\n",
    "optimizer = torch.optim.Adam(model.parameters(), weight_decay=1e-4, lr=0.0001) # added in weight regularization"
   ]
  },
  {
   "cell_type": "code",
   "execution_count": 51,
   "metadata": {},
   "outputs": [
    {
     "name": "stdout",
     "output_type": "stream",
     "text": [
      "Epoch: 1/100 - Train Loss: 1.8045 - Val Loss: 0.1225\n"
     ]
    },
    {
     "ename": "KeyboardInterrupt",
     "evalue": "",
     "output_type": "error",
     "traceback": [
      "\u001b[0;31m---------------------------------------------------------------------------\u001b[0m",
      "\u001b[0;31mKeyboardInterrupt\u001b[0m                         Traceback (most recent call last)",
      "\u001b[1;32m/Users/larsenweigle/Desktop/CS229/wave-forecaster/src/baseline.ipynb Cell 48\u001b[0m line \u001b[0;36m1\n\u001b[1;32m     <a href='vscode-notebook-cell:/Users/larsenweigle/Desktop/CS229/wave-forecaster/src/baseline.ipynb#X31sZmlsZQ%3D%3D?line=9'>10</a>\u001b[0m predictions \u001b[39m=\u001b[39m model(X_batch)\n\u001b[1;32m     <a href='vscode-notebook-cell:/Users/larsenweigle/Desktop/CS229/wave-forecaster/src/baseline.ipynb#X31sZmlsZQ%3D%3D?line=10'>11</a>\u001b[0m loss \u001b[39m=\u001b[39m criterion(predictions\u001b[39m.\u001b[39msqueeze(), y_batch)\n\u001b[0;32m---> <a href='vscode-notebook-cell:/Users/larsenweigle/Desktop/CS229/wave-forecaster/src/baseline.ipynb#X31sZmlsZQ%3D%3D?line=11'>12</a>\u001b[0m loss\u001b[39m.\u001b[39;49mbackward()\n\u001b[1;32m     <a href='vscode-notebook-cell:/Users/larsenweigle/Desktop/CS229/wave-forecaster/src/baseline.ipynb#X31sZmlsZQ%3D%3D?line=12'>13</a>\u001b[0m optimizer\u001b[39m.\u001b[39mstep()\n\u001b[1;32m     <a href='vscode-notebook-cell:/Users/larsenweigle/Desktop/CS229/wave-forecaster/src/baseline.ipynb#X31sZmlsZQ%3D%3D?line=13'>14</a>\u001b[0m total_train_loss \u001b[39m+\u001b[39m\u001b[39m=\u001b[39m loss\u001b[39m.\u001b[39mitem()\n",
      "File \u001b[0;32m~/miniconda3/envs/nlu/lib/python3.9/site-packages/torch/_tensor.py:488\u001b[0m, in \u001b[0;36mTensor.backward\u001b[0;34m(self, gradient, retain_graph, create_graph, inputs)\u001b[0m\n\u001b[1;32m    478\u001b[0m \u001b[39mif\u001b[39;00m has_torch_function_unary(\u001b[39mself\u001b[39m):\n\u001b[1;32m    479\u001b[0m     \u001b[39mreturn\u001b[39;00m handle_torch_function(\n\u001b[1;32m    480\u001b[0m         Tensor\u001b[39m.\u001b[39mbackward,\n\u001b[1;32m    481\u001b[0m         (\u001b[39mself\u001b[39m,),\n\u001b[0;32m   (...)\u001b[0m\n\u001b[1;32m    486\u001b[0m         inputs\u001b[39m=\u001b[39minputs,\n\u001b[1;32m    487\u001b[0m     )\n\u001b[0;32m--> 488\u001b[0m torch\u001b[39m.\u001b[39;49mautograd\u001b[39m.\u001b[39;49mbackward(\n\u001b[1;32m    489\u001b[0m     \u001b[39mself\u001b[39;49m, gradient, retain_graph, create_graph, inputs\u001b[39m=\u001b[39;49minputs\n\u001b[1;32m    490\u001b[0m )\n",
      "File \u001b[0;32m~/miniconda3/envs/nlu/lib/python3.9/site-packages/torch/autograd/__init__.py:197\u001b[0m, in \u001b[0;36mbackward\u001b[0;34m(tensors, grad_tensors, retain_graph, create_graph, grad_variables, inputs)\u001b[0m\n\u001b[1;32m    192\u001b[0m     retain_graph \u001b[39m=\u001b[39m create_graph\n\u001b[1;32m    194\u001b[0m \u001b[39m# The reason we repeat same the comment below is that\u001b[39;00m\n\u001b[1;32m    195\u001b[0m \u001b[39m# some Python versions print out the first line of a multi-line function\u001b[39;00m\n\u001b[1;32m    196\u001b[0m \u001b[39m# calls in the traceback and some print out the last line\u001b[39;00m\n\u001b[0;32m--> 197\u001b[0m Variable\u001b[39m.\u001b[39;49m_execution_engine\u001b[39m.\u001b[39;49mrun_backward(  \u001b[39m# Calls into the C++ engine to run the backward pass\u001b[39;49;00m\n\u001b[1;32m    198\u001b[0m     tensors, grad_tensors_, retain_graph, create_graph, inputs,\n\u001b[1;32m    199\u001b[0m     allow_unreachable\u001b[39m=\u001b[39;49m\u001b[39mTrue\u001b[39;49;00m, accumulate_grad\u001b[39m=\u001b[39;49m\u001b[39mTrue\u001b[39;49;00m)\n",
      "\u001b[0;31mKeyboardInterrupt\u001b[0m: "
     ]
    }
   ],
   "source": [
    "n_epochs = 100\n",
    "print_every = 10  # Print results every 10 epochs\n",
    "\n",
    "train_losses = []\n",
    "val_losses = []\n",
    "\n",
    "for epoch in range(1, n_epochs+1):\n",
    "    # Training\n",
    "    model.train()\n",
    "    total_train_loss = 0\n",
    "    for X_batch, y_batch in train_loader:\n",
    "        optimizer.zero_grad()\n",
    "        predictions = model(X_batch)\n",
    "        loss = criterion(predictions.squeeze(), y_batch)\n",
    "        loss.backward()\n",
    "        optimizer.step()\n",
    "        total_train_loss += loss.item()\n",
    "\n",
    "    avg_train_loss = total_train_loss / len(train_loader)\n",
    "\n",
    "    # Evaluation\n",
    "    model.eval()\n",
    "    total_val_loss = 0\n",
    "    with torch.no_grad():\n",
    "        for X_batch, y_batch in val_loader:\n",
    "            predictions = model(X_batch)\n",
    "            loss = criterion(predictions.squeeze(), y_batch)\n",
    "            total_val_loss += loss.item()\n",
    "\n",
    "    avg_val_loss = total_val_loss / len(val_loader)\n",
    "\n",
    "    # Print results\n",
    "    if epoch == 1 or epoch % print_every == 0:\n",
    "        print(f'Epoch: {epoch}/{n_epochs} - Train Loss: {avg_train_loss:.4f} - Val Loss: {avg_val_loss:.4f}')"
   ]
  }
 ],
 "metadata": {
  "kernelspec": {
   "display_name": "cs229env",
   "language": "python",
   "name": "python3"
  },
  "language_info": {
   "codemirror_mode": {
    "name": "ipython",
    "version": 3
   },
   "file_extension": ".py",
   "mimetype": "text/x-python",
   "name": "python",
   "nbconvert_exporter": "python",
   "pygments_lexer": "ipython3",
   "version": "3.9.16"
  }
 },
 "nbformat": 4,
 "nbformat_minor": 2
}
